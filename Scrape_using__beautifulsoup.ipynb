{
  "nbformat": 4,
  "nbformat_minor": 0,
  "metadata": {
    "colab": {
      "provenance": []
    },
    "kernelspec": {
      "name": "python3",
      "display_name": "Python 3"
    },
    "language_info": {
      "name": "python"
    }
  },
  "cells": [
    {
      "cell_type": "code",
      "execution_count": null,
      "metadata": {
        "colab": {
          "base_uri": "https://localhost:8080/"
        },
        "id": "MaCcTQurlHgU",
        "outputId": "7b2d8f2f-44e5-4552-d7bc-1df843212b18"
      },
      "outputs": [
        {
          "output_type": "stream",
          "name": "stdout",
          "text": [
            "Requirement already satisfied: requests in /usr/local/lib/python3.11/dist-packages (2.32.3)\n",
            "Requirement already satisfied: beautifulsoup4 in /usr/local/lib/python3.11/dist-packages (4.12.3)\n",
            "Requirement already satisfied: charset-normalizer<4,>=2 in /usr/local/lib/python3.11/dist-packages (from requests) (3.4.1)\n",
            "Requirement already satisfied: idna<4,>=2.5 in /usr/local/lib/python3.11/dist-packages (from requests) (3.10)\n",
            "Requirement already satisfied: urllib3<3,>=1.21.1 in /usr/local/lib/python3.11/dist-packages (from requests) (2.3.0)\n",
            "Requirement already satisfied: certifi>=2017.4.17 in /usr/local/lib/python3.11/dist-packages (from requests) (2024.12.14)\n",
            "Requirement already satisfied: soupsieve>1.2 in /usr/local/lib/python3.11/dist-packages (from beautifulsoup4) (2.6)\n"
          ]
        }
      ],
      "source": [
        "pip install requests beautifulsoup4\n"
      ]
    },
    {
      "cell_type": "code",
      "source": [
        "import requests\n",
        "from bs4 import BeautifulSoup\n",
        "\n",
        "# Base URL for Cars24 (make sure to check the correct one based on your search/filter)\n",
        "url = 'https://www.cars24.com/buy-used-cars'\n",
        "\n",
        "headers = {'User-Agent': 'Mozilla/5.0'}\n",
        "\n",
        "# Send the request to the Cars24 website\n",
        "response = requests.get(url, headers=headers)\n",
        "\n",
        "# Parse the HTML content\n",
        "soup = BeautifulSoup(response.text, 'html.parser')\n",
        "\n",
        "# Find all car listings (This depends on the HTML structure of the page)\n",
        "car_listings = soup.find_all('div', class_='car-listing')\n",
        "\n",
        "# Loop through the car listings and extract details\n",
        "for car in car_listings:\n",
        "    title = car.find('h2', class_='car-name').get_text() if car.find('h2', class_='car-name') else 'N/A'\n",
        "    price = car.find('span', class_='price').get_text() if car.find('span', class_='price') else 'N/A'\n",
        "    location = car.find('div', class_='location').get_text() if car.find('div', class_='location') else 'N/A'\n",
        "\n",
        "    print(f\"Car: {title}, Price: {price}, Location: {location}\")\n"
      ],
      "metadata": {
        "id": "DRhFcqt1lToa"
      },
      "execution_count": null,
      "outputs": []
    },
    {
      "cell_type": "code",
      "source": [
        "import requests\n",
        "from bs4 import BeautifulSoup\n",
        "import time\n",
        "\n",
        "# Base URL for Cars24 (replace with the actual URL you're targeting)\n",
        "base_url = 'https://www.cars24.com/buy-used-cars?page='\n",
        "\n",
        "headers = {'User-Agent': 'Mozilla/5.0'}\n",
        "\n",
        "# Set the number of pages to scrape\n",
        "total_pages = 5  # Set this to the total number of pages you want to scrape\n",
        "\n",
        "for page in range(1, total_pages + 1):\n",
        "    print(f\"Scraping page {page}...\")\n",
        "    url = f'{base_url}{page}'\n",
        "    response = requests.get(url, headers=headers)\n",
        "\n",
        "    if response.status_code == 200:\n",
        "        soup = BeautifulSoup(response.text, 'html.parser')\n",
        "\n",
        "        # Find all car listings on the current page\n",
        "        car_listings = soup.find_all('div', class_='car-listing')\n",
        "\n",
        "        for car in car_listings:\n",
        "            title = car.find('h2', class_='car-name').get_text() if car.find('h2', class_='car-name') else 'N/A'\n",
        "            price = car.find('span', class_='price').get_text() if car.find('span', class_='price') else 'N/A'\n",
        "            location = car.find('div', class_='location').get_text() if car.find('div', class_='location') else 'N/A'\n",
        "\n",
        "            print(f\"Car: {title}, Price: {price}, Location: {location}\")\n",
        "\n",
        "        # Add a delay to prevent overloading the server\n",
        "        time.sleep(2)  # 2 seconds delay between requests\n",
        "    else:\n",
        "        print(f\"Failed to retrieve page {page}\")\n",
        "\n",
        "print(\"Scraping complete.\")\n"
      ],
      "metadata": {
        "colab": {
          "base_uri": "https://localhost:8080/"
        },
        "id": "EyIio-CillP0",
        "outputId": "bc00592f-1779-4180-ba82-3975fa398ce4"
      },
      "execution_count": null,
      "outputs": [
        {
          "output_type": "stream",
          "name": "stdout",
          "text": [
            "Scraping page 1...\n",
            "Scraping page 2...\n",
            "Scraping page 3...\n",
            "Scraping page 4...\n",
            "Scraping page 5...\n",
            "Scraping complete.\n"
          ]
        }
      ]
    },
    {
      "cell_type": "code",
      "source": [
        "import csv\n",
        "\n",
        "# Open CSV file for writing\n",
        "with open('cars24_data.csv', 'w', newline='', encoding='utf-8') as csvfile:\n",
        "    fieldnames = ['Car', 'Price', 'Location', 'Year']\n",
        "    writer = csv.DictWriter(csvfile, fieldnames=fieldnames)\n",
        "\n",
        "    # Write header\n",
        "    writer.writeheader()\n",
        "\n",
        "    # Scrape each page and write data\n",
        "    for page in range(1, total_pages + 1):\n",
        "        print(f\"Scraping page {page}...\")\n",
        "        url = f'{base_url}{page}'\n",
        "        response = requests.get(url, headers=headers)\n",
        "\n",
        "        if response.status_code == 200:\n",
        "            soup = BeautifulSoup(response.text, 'html.parser')\n",
        "\n",
        "            car_listings = soup.find_all('div', class_='car-listing')\n",
        "\n",
        "            for car in car_listings:\n",
        "                title = car.find('h2', class_='car-name').get_text() if car.find('h2', class_='car-name') else 'N/A'\n",
        "                price = car.find('span', class_='price').get_text() if car.find('span', class_='price') else 'N/A'\n",
        "                location = car.find('div', class_='location').get_text() if car.find('div', class_='location') else 'N/A'\n",
        "                year = car.find('div', class_='car-year').get_text() if car.find('div', class_='car-year') else 'N/A'\n",
        "\n",
        "                # Write data to CSV\n",
        "                writer.writerow({'Car': title, 'Price': price, 'Location': location, 'Year': year})\n",
        "\n",
        "            time.sleep(2)  # Delay between requests\n",
        "\n",
        "print(\"Scraping complete and data saved to cars24_data.csv.\")\n",
        "\n"
      ],
      "metadata": {
        "colab": {
          "base_uri": "https://localhost:8080/"
        },
        "id": "pIHUXeYVlmTE",
        "outputId": "00d8d434-97f1-4661-ade6-a9b205c5a93c"
      },
      "execution_count": null,
      "outputs": [
        {
          "output_type": "stream",
          "name": "stdout",
          "text": [
            "Scraping page 1...\n",
            "Scraping page 2...\n",
            "Scraping page 3...\n",
            "Scraping page 4...\n",
            "Scraping page 5...\n",
            "Scraping complete and data saved to cars24_data.csv.\n"
          ]
        }
      ]
    },
    {
      "cell_type": "code",
      "source": [],
      "metadata": {
        "id": "05htn171l5sg"
      },
      "execution_count": null,
      "outputs": []
    }
  ]
}